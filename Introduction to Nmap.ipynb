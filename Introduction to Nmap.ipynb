{
 "cells": [
  {
   "cell_type": "markdown",
   "metadata": {},
   "source": [
    "# Fireup Nmap\n",
    "\n",
    "If you did not install Nmap yet, you can install it by entering the following command in your terminal session.\n",
    "\n",
    "```\n",
    "sudo apt-get install nmap\n",
    "```\n",
    "\n",
    "If you want to install the Python library for Nmap, then use the following\n",
    "```\n",
    "pip install python-nmap\n",
    "```"
   ]
  },
  {
   "cell_type": "code",
   "execution_count": 10,
   "metadata": {
    "collapsed": false
   },
   "outputs": [],
   "source": [
    "import nmap\n",
    "import os"
   ]
  },
  {
   "cell_type": "markdown",
   "metadata": {},
   "source": [
    "# What is Nmap?\n",
    "Nmap is a tool that you can use to scan a network or a device. You can scan your entire home network to see if your silly neighbor is using your network. :) You can also scan servers, routers or actual devices. You can scan a server to see what services are running such as FTP,MySQL or HTTP etc. and what ports are open, filtered or closed. \n",
    "\n",
    "## Let's get started with some hands on practices"
   ]
  },
  {
   "cell_type": "code",
   "execution_count": 16,
   "metadata": {
    "collapsed": false
   },
   "outputs": [
    {
     "name": "stdout",
     "output_type": "stream",
     "text": [
      "45.33.49.119:up\n",
      "----------\n",
      "Protocol : tcp\n",
      "port : 22\tstate : open\n",
      "port : 25\tstate : open\n",
      "port : 70\tstate : closed\n",
      "port : 80\tstate : open\n",
      "port : 113\tstate : closed\n",
      "port : 443\tstate : open\n",
      "port : 31337\tstate : closed\n"
     ]
    }
   ],
   "source": [
    "# Equivelant terminal command would be\n",
    "# nmap google.com\n",
    "# Here is the python code\n",
    "nmapScanner = nmap.PortScanner()\n",
    "host = \"nmap.org\"\n",
    "nmapScanner.scan(hosts=host)\n",
    "hostsList = [(x, nmapScanner[x]['status']['state']) for x in nmapScanner.all_hosts()]\n",
    "\n",
    "for host, status in hostsList:\n",
    "    print('{0}:{1}'.format(host, status))\n",
    "for protocol in nmapScanner[host].all_protocols():\n",
    "    print('----------')\n",
    "    print('Protocol : %s' % protocol)\n",
    " \n",
    "    lport = nmapScanner[host][protocol].keys()\n",
    "    lport.sort()\n",
    "    for port in lport:\n",
    "        print ('port : %s\\tstate : %s' % (port, nmapScanner[host][protocol][port]['state']))"
   ]
  },
  {
   "cell_type": "markdown",
   "metadata": {},
   "source": [
    "In the example above, Nmap did hit up to the dns server and translated it into an ip address for us\n",
    "We could also scan with the IP address as follows\n",
    "~~~\n",
    "nmap 45.33.49.119\n",
    "~~~\n",
    "## Terms\n",
    "- Open: Means that the port is active and open to connections\n",
    "- Closed: Means that most likely there are no services running\n",
    "- Filtered: Means that the service is protected by a firewall\n",
    "\n",
    "# Scanning Multiple Targets"
   ]
  },
  {
   "cell_type": "code",
   "execution_count": 20,
   "metadata": {
    "collapsed": false
   },
   "outputs": [
    {
     "name": "stdout",
     "output_type": "stream",
     "text": [
      "10.100.6.47:up\n",
      "10.100.6.52:up\n",
      "10.100.6.53:up\n",
      "----------\n",
      "Protocol : tcp\n",
      "port : 62078\tstate : open\n"
     ]
    }
   ],
   "source": [
    "# You can scan multiple targets at once as well. \n",
    "# Below the ip addresses are the devices that are in my network\n",
    "# nmap 10.100.6.10 10.100.6.19 10.100.6.25\n",
    "# Python equivelant code is\n",
    "host = \"10.100.6.47 10.100.6.52 10.100.6.53\"\n",
    "nmapScanner.scan(hosts=host)\n",
    "hostsList = [(x, nmapScanner[x]['status']['state']) for x in nmapScanner.all_hosts()]\n",
    "\n",
    "for host, status in hostsList:\n",
    "    print('{0}:{1}'.format(host, status))\n",
    "for protocol in nmapScanner[host].all_protocols():\n",
    "    print('----------')\n",
    "    print('Protocol : %s' % protocol)\n",
    " \n",
    "    lport = nmapScanner[host][protocol].keys()\n",
    "    lport.sort()\n",
    "    for port in lport:\n",
    "        print ('port : %s\\tstate : %s' % (port, nmapScanner[host][protocol][port]['state']))"
   ]
  },
  {
   "cell_type": "markdown",
   "metadata": {},
   "source": [
    "**You'll actually have more detailed output when you use the nmap from commandline. You can also run terminal commands in python via os library.**\n",
    "~~~\n",
    "os.system(\"nmap 10.100.6.47 10.100.6.52 10.100.6.53\")\n",
    "~~~\n",
    "\n",
    "**You can also specify an ip range**\n",
    "~~~\n",
    "os.system(\"nmap 10.100.6.1-30\")\n",
    "~~~\n",
    "**In order to scan the entire subnet you can use the following**\n",
    "~~~\n",
    "os.system(\"nmap 10.100.6.*\")\n",
    "~~~\n",
    "or\n",
    "~~~\n",
    "os.system(\"nmap 10.100.6.0/24\")\n",
    "~~~\n",
    "\n",
    "**If you have a file consists of ip addresses, you can use it to scan a target as well.\n",
    "Let's say you have a file called targets.txt. You can launch a scan with the following command**\n",
    "~~~\n",
    "nmap -iL targets.txt \n",
    "~~~\n",
    "**-iL stands for input List**"
   ]
  },
  {
   "cell_type": "code",
   "execution_count": null,
   "metadata": {
    "collapsed": true
   },
   "outputs": [],
   "source": []
  }
 ],
 "metadata": {
  "kernelspec": {
   "display_name": "Python [graphlab]",
   "language": "python",
   "name": "Python [graphlab]"
  },
  "language_info": {
   "codemirror_mode": {
    "name": "ipython",
    "version": 2
   },
   "file_extension": ".py",
   "mimetype": "text/x-python",
   "name": "python",
   "nbconvert_exporter": "python",
   "pygments_lexer": "ipython2",
   "version": "2.7.12"
  }
 },
 "nbformat": 4,
 "nbformat_minor": 0
}
